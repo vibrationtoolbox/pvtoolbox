{
 "cells": [
  {
   "cell_type": "markdown",
   "metadata": {},
   "source": [
    "# Beat phenomenon"
   ]
  },
  {
   "cell_type": "code",
   "execution_count": 1,
   "metadata": {
    "collapsed": true
   },
   "outputs": [],
   "source": [
    "import vibration_toolbox as vtb\n",
    "\n",
    "import matplotlib.pyplot as plt\n",
    "from ipywidgets import interact, interactive, widgets\n",
    "from IPython.display import Audio, display\n",
    "\n",
    "%matplotlib inline"
   ]
  },
  {
   "cell_type": "markdown",
   "metadata": {},
   "source": [
    "In this notebook we will investigate a phenomena that occurs when the driving frequency becomes close  to  the  system’s  natural  frequency. "
   ]
  },
  {
   "cell_type": "markdown",
   "metadata": {},
   "source": [
    "For zero initial conditions, the response is given by the equation:\n",
    "\n",
    "\\begin{equation}\n",
    "x(t) = \\frac{2f_0}{\\omega^2_n - \\omega^2} sin\\Big(\\frac{\\omega_n - \\omega}{2} t\\Big) sin\\Big(\\frac{\\omega_n + \\omega}{2}t\\Big)\n",
    "\\end{equation}\n",
    "\n",
    "Since $(\\omega_n - \\omega)$ is small, $(\\omega_n + \\omega)$ is large in comparison and $sin[(\\omega_n - \\omega)/2]t$ oscillates with a longer period than $sin[(\\omega_n + \\omega)/2]t$. \n",
    "The result is a rapid oscillation with slowly varying amplitude that is called a **beat**.\n",
    "\n",
    "The system defined in the function bellow has a a natural frequency $\\omega_n = 1000 \\ rad/s$. \n",
    "\n",
    "You can change the excitation frequency moving the slide 'wdr' and hear the resulting sound.\n",
    "\n",
    "When you get close to the natural frequency you will be able to recognize the beats."
   ]
  },
  {
   "cell_type": "code",
   "execution_count": 2,
   "metadata": {
    "scrolled": false
   },
   "outputs": [
    {
     "data": {
      "application/vnd.jupyter.widget-view+json": {
       "model_id": "dc4372fa3a944da7bbb7677ad05f097d"
      }
     },
     "metadata": {},
     "output_type": "display_data"
    }
   ],
   "source": [
    "@interact(wdr=widgets.FloatSlider(min=900.1, max=1100.1, step=1, value=1100))\n",
    "def f(wdr):\n",
    "    t, a = vtb.forced_analytical(m=1, k=10**6, x0=0, v0=0, wdr=wdr, F0=200, tf=5)\n",
    "    display(Audio(data=a, rate=1/0.000125))\n",
    "    plt.plot(t, a, alpha=0.5)\n",
    "    plt.show()\n",
    "    "
   ]
  },
  {
   "cell_type": "code",
   "execution_count": 3,
   "metadata": {},
   "outputs": [
    {
     "data": {
      "application/vnd.jupyter.widget-view+json": {
       "model_id": "b0add94a5a184ba38377f4e762affda0"
      }
     },
     "metadata": {},
     "output_type": "display_data"
    }
   ],
   "source": [
    "w = interactive(f,wdr = (900.1,1100.1,1));\n",
    "display(w);"
   ]
  },
  {
   "cell_type": "code",
   "execution_count": null,
   "metadata": {
    "collapsed": true
   },
   "outputs": [],
   "source": []
  }
 ],
 "metadata": {
  "hide_input": false,
  "kernelspec": {
   "display_name": "Python 3",
   "language": "python",
   "name": "python3"
  },
  "language_info": {
   "codemirror_mode": {
    "name": "ipython",
    "version": 3
   },
   "file_extension": ".py",
   "mimetype": "text/x-python",
   "name": "python",
   "nbconvert_exporter": "python",
   "pygments_lexer": "ipython3",
   "version": "3.6.2"
  },
  "latex_envs": {
   "bibliofile": "biblio.bib",
   "cite_by": "apalike",
   "current_citInitial": 1,
   "eqLabelWithNumbers": true,
   "eqNumInitial": 0
  },
  "toc": {
   "nav_menu": {},
   "number_sections": true,
   "sideBar": true,
   "skip_h1_title": false,
   "toc_cell": false,
   "toc_position": {},
   "toc_section_display": "block",
   "toc_window_display": false
  },
  "varInspector": {
   "cols": {
    "lenName": 16,
    "lenType": 16,
    "lenVar": 40
   },
   "kernels_config": {
    "python": {
     "delete_cmd_postfix": "",
     "delete_cmd_prefix": "del ",
     "library": "var_list.py",
     "varRefreshCmd": "print(var_dic_list())"
    },
    "r": {
     "delete_cmd_postfix": ") ",
     "delete_cmd_prefix": "rm(",
     "library": "var_list.r",
     "varRefreshCmd": "cat(var_dic_list()) "
    }
   },
   "types_to_exclude": [
    "module",
    "function",
    "builtin_function_or_method",
    "instance",
    "_Feature"
   ],
   "window_display": false
  }
 },
 "nbformat": 4,
 "nbformat_minor": 1
}
